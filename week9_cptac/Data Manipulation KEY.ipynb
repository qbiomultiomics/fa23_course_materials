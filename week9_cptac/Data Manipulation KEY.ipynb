{
 "cells": [
  {
   "cell_type": "markdown",
   "id": "79519bc2",
   "metadata": {},
   "source": [
    "# (1) Control Flow\n",
    "## If, Elif, Else\n",
    "\n",
    "Python uses if statements like R, with three main differences.\n",
    "\n",
    "Instead of curly brackets, you have colons and indents.\n",
    "You don't put the `if` statement in parentheses.\n",
    "Instead of `else if`, you have the abbreviated `elif`."
   ]
  },
  {
   "cell_type": "code",
   "execution_count": null,
   "id": "cd6ff894",
   "metadata": {},
   "outputs": [],
   "source": [
    "x = -10\n",
    "\n",
    "if x > 0:\n",
    "    print('x is positive!')\n",
    "elif x == 0:\n",
    "    print('x is 0!')\n",
    "else:\n",
    "    print('x is negative!')"
   ]
  },
  {
   "cell_type": "markdown",
   "id": "3aa8be42",
   "metadata": {},
   "source": [
    "Because there are no brackets like R, Python relies on the indentations to decide what goes in and out of an `if/elif/else` statement. If there are problems with indentations, or if your indentations are not the same number of spaces (let's say, 3 spaces vs. 4 spaces), the statements will not execute. \n",
    "<br></br>\n",
    "\n",
    "### For loops\n",
    "\n",
    "Also like R, there are `for` and `while` loops. Like R, all for loops in Python are \"for-each\" loops, meaning you have to go through a list. For example, the following chunk of code prints each element in `a_new_list` on a separate line. Like the `if` statements, you do not use parentheses around the for condition:"
   ]
  },
  {
   "cell_type": "code",
   "execution_count": null,
   "id": "66b0f1dd",
   "metadata": {},
   "outputs": [],
   "source": [
    "a_new_list = [1, 'fish', 2, 'fish']\n",
    "for x in a_new_list:\n",
    "    print(x) "
   ]
  },
  {
   "cell_type": "markdown",
   "id": "078b17c5",
   "metadata": {},
   "source": [
    "If you know the certain amount of times you want to repeat something, use the `range()` function like so."
   ]
  },
  {
   "cell_type": "code",
   "execution_count": null,
   "id": "28ca5fc5",
   "metadata": {},
   "outputs": [],
   "source": [
    "# this loop will print 10 times\n",
    "for i in range(10):\n",
    "    print(f\"looping: {i}\")"
   ]
  },
  {
   "cell_type": "markdown",
   "id": "afe747d8",
   "metadata": {},
   "source": [
    "Remember, Python indexes at 0 instead of 1 like R. You'll see it prints 0-9 instead of 1-10. Many other languages like C++ follow this zero-based indexing. \n",
    "<br></br>\n",
    "**Exercise 1.1**\n",
    "\n",
    "Fill in the ellipses to calculate the mean of the elements in `nums`."
   ]
  },
  {
   "cell_type": "code",
   "execution_count": 1,
   "id": "0db844df",
   "metadata": {},
   "outputs": [
    {
     "name": "stdout",
     "output_type": "stream",
     "text": [
      "The mean is 3.5!\n"
     ]
    }
   ],
   "source": [
    "nums = [1,2,3,4,5,6]\n",
    "total = 0\n",
    "\n",
    "for i in nums:\n",
    "    total += i\n",
    "\n",
    "mean_value = total / len(nums) # DO NOT fill in 6 (use a function instead)\n",
    "\n",
    "print(f'The mean is {mean_value}!')"
   ]
  },
  {
   "cell_type": "markdown",
   "id": "afc6f09f",
   "metadata": {},
   "source": [
    "**Exercise 1.2**\n",
    "\n",
    "Add every element from `a_new_list` onto the end of `num_list` using a `for` loop using `append()` and the `range()` function. Hint: for this to work, you'll have to get the length of `a_new_list`."
   ]
  },
  {
   "cell_type": "code",
   "execution_count": 2,
   "id": "6627e453",
   "metadata": {},
   "outputs": [
    {
     "name": "stdout",
     "output_type": "stream",
     "text": [
      "[0, 1, 2, 3, 4, 5, 6, 1, 'fish', 2, 'fish']\n"
     ]
    }
   ],
   "source": [
    "a_new_list = [1, 'fish', 2, 'fish']\n",
    "num_list = [0,1,2,3,4,5,6]\n",
    "\n",
    "# write code here\n",
    "for i in range(len(a_new_list)):\n",
    "    num_list.append(a_new_list[i])\n",
    "    \n",
    "print(num_list)"
   ]
  },
  {
   "cell_type": "markdown",
   "id": "4ee57732",
   "metadata": {},
   "source": [
    "**Exercise 1.3** \n",
    "\n",
    "Given the following list of strings `string_list`, copy all strings that start with the letter \"A\" into `starts_A_list` using `append()`. Hint: you can get the first letter of a string just by treating it as a list of characters."
   ]
  },
  {
   "cell_type": "code",
   "execution_count": null,
   "id": "367278d2",
   "metadata": {},
   "outputs": [],
   "source": [
    "# example of string indexing\n",
    "my_string = \"Tree\"\n",
    "print(my_string[0])"
   ]
  },
  {
   "cell_type": "code",
   "execution_count": 3,
   "id": "f8669226",
   "metadata": {},
   "outputs": [
    {
     "name": "stdout",
     "output_type": "stream",
     "text": [
      "['Apple', 'Alligator', 'Anteater', 'Aardvark']\n"
     ]
    }
   ],
   "source": [
    "string_list = [\"Apple\", \"Banana\", \"Alligator\", \"Anteater\", \"Potato\", \"Water\", \"Aardvark\"]\n",
    "starts_A_list = []\n",
    "\n",
    "# write code here\n",
    "for string in string_list:\n",
    "    if string[0] == 'A':\n",
    "        starts_A_list.append(string)\n",
    "\n",
    "print(starts_A_list)"
   ]
  },
  {
   "cell_type": "markdown",
   "id": "2104a5d2",
   "metadata": {},
   "source": [
    "### While loops\n",
    "\n",
    "While loops in Python are the same as in R, except again without curly brackets and with colons instead. Again, like if/elif/else statements and for loops, Python relies on indents to figure out what's in the loop and what isn't. "
   ]
  },
  {
   "cell_type": "code",
   "execution_count": null,
   "id": "9b11987a",
   "metadata": {},
   "outputs": [],
   "source": [
    "i = 1\n",
    "while i < 64:\n",
    "    i *= 2  # note: this is equivalent to writing i = i * 2\n",
    "    print(i)"
   ]
  },
  {
   "cell_type": "markdown",
   "id": "68dc76c4",
   "metadata": {},
   "source": [
    "# (2) Pandas\n",
    "\n",
    "The pandas package implements data frames, which are similar to those in R. As usual, we'll have to load it beforehand, so let's do it (`pd` is a standard abbreviation for pandas that you'll see pretty much everywhere pandas is used)."
   ]
  },
  {
   "cell_type": "code",
   "execution_count": 4,
   "id": "3a4ff1df",
   "metadata": {},
   "outputs": [],
   "source": [
    "import pandas as pd"
   ]
  },
  {
   "cell_type": "markdown",
   "id": "1031074a",
   "metadata": {},
   "source": [
    "## Pandas Series\n",
    "\n",
    "A pandas `Series` object is in essence, a better, more functional version of the native Python list. Unlike numpy arrays, they can store different data types in the same Series object. Here are a few examples of Series and functions that show what makes them so great."
   ]
  },
  {
   "cell_type": "code",
   "execution_count": null,
   "id": "a9ada393",
   "metadata": {},
   "outputs": [],
   "source": [
    "my_list = [1,2,4,12]\n",
    "my_series = pd.Series(my_list)\n",
    "\n",
    "print(my_series)\n",
    "\n",
    "print(my_series.loc[my_series > 3]) # [my_series > 3] is a Boolean mask! More on that in a bit\n",
    "\n",
    "my_char_series = pd.Series(char for char in 'test')\n",
    "print(my_char_series)\n",
    "\n",
    "my_string_series = pd.Series(['This is a string', 'This is also a string', 'Yet again, another string', 'lol'])\n",
    "print(my_string_series.str[5]) # this is a little more advanced than what we're looking at in this course, but basically\n",
    "# you are using what is called a 'vectorized' operation to get the index=5 (6th element) character in each string"
   ]
  },
  {
   "cell_type": "markdown",
   "id": "123c3c99",
   "metadata": {},
   "source": [
    "## Pandas DataFrame\n",
    "\n",
    "A pandas `DataFrame` in essence is the same as any R dataframe but they work a bit differently. Pandas is a package and dataframes aren't part of the base code of Python the same way they are in R.\n",
    "\n",
    "You still have columns and rows though, which can have integer indices (remember Python is a 0-based indexing language!) \n",
    "\n",
    "You can have different columns that contain different data types (try and keep every column to a single data type although you don't necesarrily have to).\n",
    "\n",
    "You can make a data frame with the `.DataFrame()` function. This will convert a dictionary (of lists, Series (another pandas object), lists, tuples, etc), numpy array, or any other iterable object into a pandas DataFrame object"
   ]
  },
  {
   "cell_type": "code",
   "execution_count": null,
   "id": "6b80b8ce",
   "metadata": {},
   "outputs": [],
   "source": [
    "# a dictionary with keys (columns) a, b, c, with values numerical values\n",
    "df1 = pd.DataFrame({\n",
    "    'a': [0, 1, 2],\n",
    "    'b': [False, True, True],\n",
    "    'c': ['This is', 'three different', 'strings!']\n",
    "})\n",
    "\n",
    "# a dataframe from a two dimensional array, though its unnamed\n",
    "df2 = pd.DataFrame([\n",
    "    [1,2,3,4],\n",
    "    [2,6],\n",
    "    ['True', False, True]\n",
    "])\n",
    "\n",
    "print(df1)\n",
    "print('')\n",
    "print(df2)\n",
    "# notice how pandas always makes the DataFrame object rectangular, and fills in \n",
    "# NaN (this is a pd.NA object and is equivalent to NA in R) for any spots where it is missing data"
   ]
  },
  {
   "cell_type": "markdown",
   "id": "c351c61f",
   "metadata": {},
   "source": [
    "In general, you can use the same commands implemented in numpy on pandas dataframes. Here are some data attributes that are useful:\n",
    "* `.index`: This will give you the index of every row.\n",
    "* `.columns` This will give you the column names.\n",
    "* `.axes`: This is a list that contains both the indices and columns in that order (i.e. [index, columns]).\n",
    "* `.shape`: As with numpy, this atrributre is a tuple containing the shape of the dataframe (i.e. rows by columns).\n",
    "* `.dtypes`: This contains the datatypes in each column of the dataframe."
   ]
  },
  {
   "cell_type": "code",
   "execution_count": null,
   "id": "e14f3f4c",
   "metadata": {},
   "outputs": [],
   "source": [
    "print(df1)\n",
    "\n",
    "print('\\n-----------\\n')\n",
    "\n",
    "print(f\"Here's the axes (names by row, column):\\n{df1.axes}\\n\")\n",
    "print(f\"Here's the shape:\\n{df1.shape}\\n\")\n",
    "print(f\"Here's the data types in each column:\\n{df1.dtypes}\\n\")"
   ]
  },
  {
   "cell_type": "markdown",
   "id": "2580651b",
   "metadata": {},
   "source": [
    "### Accessing Rows/Columns in a DataFrame\n",
    "\n",
    "Since the DataFrame object isn't built into Python like it is into R, you can't just use [row, column] notation to access different rows or columns.\n",
    "The best way to access rows and columns in pandas DataFrame objects is using the functions `.loc()`, and `.iloc()`. These functions give a Series object as the return value.\n",
    "\n",
    "* `.loc()`: This gets values by its name. You need to specify which rows (by index) and columns (by name). Note that you can select multiple columns if you pass a list of column names.\n",
    "* `.iloc()`: This gets values by its index (hence, index-loc). You don't need to specify both rows and columns -- if you don't, it will default to rows only. (To make your code more readable and to make the syntax easier to remember, it's probably best to specify both anyways).\n",
    "\n"
   ]
  },
  {
   "cell_type": "code",
   "execution_count": null,
   "id": "a4072f8b",
   "metadata": {},
   "outputs": [],
   "source": [
    "print(df1.loc[:,'a'])  # gets every value in column 'a'\n",
    "print(df1.iloc[:, 2])  # gets every value in column 2, which is also named 'c'\n",
    "print(df1.iloc[1])     # gets every value in row 1, which is the second row\n",
    "print(df1.iloc[1, :])  # same as above, but this syntax makes it clearer than the above"
   ]
  },
  {
   "cell_type": "markdown",
   "id": "9c4892ef",
   "metadata": {},
   "source": [
    "Other ways to access values\n",
    "\n",
    "There are a few other different ways to access rows and columns in pandas DataFrame objects but they aren't always as clear and you should generally try to stick to `.loc()` and `.iloc()` for ease of reading\n",
    "\n",
    "Using the dot (`.`) to access the attribute directly; for example `df1.a`. This is probably the shortest method (as long as the name of your attribute doesn't have spaces or special characters (e.g. `Name of Gene`, instead of `gene_name`)).\n",
    "\n",
    "Using single square brackets to get columns, for example `df1['a']`. Note that the name a is a string.\n",
    "\n",
    "Using double square brackets, for example `df1[['a']]`. Note that this returns a 2D data frame, not a 1D series (which is just a 1D array in pandas). This method has the benefit of being able to select multiple columns, such as by `df1[['a', 'b', 'c']]`.\n"
   ]
  },
  {
   "cell_type": "code",
   "execution_count": null,
   "id": "9b69c526",
   "metadata": {},
   "outputs": [],
   "source": [
    "print(df1.a)\n",
    "print(df1['a'])\n",
    "print(df1[['a']])"
   ]
  },
  {
   "cell_type": "markdown",
   "id": "2f511b57",
   "metadata": {},
   "source": [
    "# (3) Data Transformations\n",
    "## Boolean Indexing\n",
    "As with R, you have the option of selecting rows by boolean indexing by using the loc attribute. As a review, you can apply vectorized comparison operators to an entire 1D pandas array (i.e. a pandas series):"
   ]
  },
  {
   "cell_type": "code",
   "execution_count": null,
   "id": "c86d5bc3",
   "metadata": {},
   "outputs": [],
   "source": [
    "print(df1.a)\n",
    "df1.a >= 1"
   ]
  },
  {
   "cell_type": "markdown",
   "id": "80460018",
   "metadata": {},
   "source": [
    "Therefore, you can select rows by putting boolean values into the loc columns."
   ]
  },
  {
   "cell_type": "code",
   "execution_count": null,
   "id": "a873737f",
   "metadata": {},
   "outputs": [],
   "source": [
    "df1.loc[df1.a >= 1, 'b']  # gets the column 'b' for every row with a value of 1 or greater in the column 'a'"
   ]
  },
  {
   "cell_type": "code",
   "execution_count": null,
   "id": "a1c3f12c",
   "metadata": {},
   "outputs": [],
   "source": [
    "Use the following exercise array:"
   ]
  },
  {
   "cell_type": "code",
   "execution_count": 5,
   "id": "b88a7561",
   "metadata": {},
   "outputs": [],
   "source": [
    "#  feel free to try to understand this code, though by all means it's not expected that you will\n",
    "df_exercise = pd.DataFrame(\n",
    "    [[10*j + i for i in range(10)] for j in range(10)],\n",
    "    columns = [char for char in \"abcdefghij\"])"
   ]
  },
  {
   "cell_type": "markdown",
   "id": "83f12e2c",
   "metadata": {},
   "source": [
    "**Exercise 3.1**\n",
    "\n",
    "Select columns b-g and store it as a separate data frame named df_new. Can you think of more than one way to do so?\n",
    "Filter out rows in df_new where the value in c is not a multiple of 3 (modify df_new). Remember that the modulo (%) operator gets the remainder.\n",
    "Get the value at index (2, 3). It should be 74."
   ]
  },
  {
   "cell_type": "code",
   "execution_count": 6,
   "id": "182fd4c3",
   "metadata": {},
   "outputs": [
    {
     "name": "stdout",
     "output_type": "stream",
     "text": [
      "74\n"
     ]
    }
   ],
   "source": [
    "# write code here\n",
    "\n",
    "# shown below are equivalent ways of accomplishing the first part\n",
    "df_new = df_exercise.loc[:, 'b':'g']\n",
    "df_new = df_exercise.iloc[:, 1:7]\n",
    "\n",
    "df_new = df_new.loc[df_new.loc[:, 'c'] % 3 == 0, :]\n",
    "print(df_new.iloc[2, 3])"
   ]
  },
  {
   "cell_type": "markdown",
   "id": "44bf63a8",
   "metadata": {},
   "source": [
    "## Transposition\n",
    "Transposing a DataFrame allows you to switch the columns and rows. This can be useful because a lot of DataFrame methods are operated on each column by default."
   ]
  },
  {
   "cell_type": "code",
   "execution_count": null,
   "id": "c0fd5aef",
   "metadata": {},
   "outputs": [],
   "source": [
    "df_exercise.sum() # computes column sums"
   ]
  },
  {
   "cell_type": "code",
   "execution_count": null,
   "id": "8116532e",
   "metadata": {},
   "outputs": [],
   "source": [
    "df_exercise.T # transposes DataFrame"
   ]
  },
  {
   "cell_type": "code",
   "execution_count": null,
   "id": "3e6060ad",
   "metadata": {},
   "outputs": [],
   "source": [
    "df_exercise.T.sum() # computes row sums"
   ]
  },
  {
   "cell_type": "markdown",
   "id": "198df1bc",
   "metadata": {},
   "source": [
    "## Vectorized Operations\n",
    "Vectorized operations are not a default feature of Python but similar functionality can be achieved using numpy and pandas. Let's walk through a few use cases:"
   ]
  },
  {
   "cell_type": "code",
   "execution_count": null,
   "id": "9b8f5fbd",
   "metadata": {},
   "outputs": [],
   "source": [
    "array_exercise = np.array(df_exercise)\n",
    "array_cos = np.cos(array_exercise)\n",
    "df_exercise.loc[:, :] = array_cos # preserves original index and columns instead of casting as DataFrame"
   ]
  },
  {
   "cell_type": "markdown",
   "id": "7a35b7fb",
   "metadata": {},
   "source": [
    "We can do string vectorized operations as well but only on Series"
   ]
  },
  {
   "cell_type": "code",
   "execution_count": null,
   "id": "92f717fe",
   "metadata": {},
   "outputs": [],
   "source": [
    "string_df = pd.DataFrame({'a' : ['string', 'yes', 'hello'], 'b' : ['wow', 'so cool!', 'hiya']})\n"
   ]
  },
  {
   "cell_type": "code",
   "execution_count": null,
   "id": "6f4e6977",
   "metadata": {},
   "outputs": [],
   "source": [
    "string_df.loc[:, 'a'].str.contains('e')"
   ]
  },
  {
   "cell_type": "code",
   "execution_count": null,
   "id": "43ebd339",
   "metadata": {},
   "outputs": [],
   "source": [
    "string_df.loc[:, 'b'].str[::-1]"
   ]
  },
  {
   "cell_type": "markdown",
   "id": "166cfb65",
   "metadata": {},
   "source": [
    "## Looping Through Values\n",
    "We can use for loops to go row by row or column by column in our DataFrames. The default action is to loop through columns. Looping through a Series is the exact same as looping through a row or column. In fact, when you access a single row or column, the object you are getting back is actually a Series!"
   ]
  },
  {
   "cell_type": "code",
   "execution_count": null,
   "id": "7c09fa70",
   "metadata": {},
   "outputs": [],
   "source": [
    "# These are equivalent!\n",
    "for col in string_df:\n",
    "    print(string_df.loc[:, col])\n",
    "\n",
    "for col in string_df.columns:\n",
    "    print(string_df.loc[:, col])"
   ]
  },
  {
   "cell_type": "markdown",
   "id": "26a408bf",
   "metadata": {},
   "source": [
    "To loop through rows, we can loop through the index of the DataFrame"
   ]
  },
  {
   "cell_type": "code",
   "execution_count": null,
   "id": "3f25631a",
   "metadata": {},
   "outputs": [],
   "source": [
    "for row in string_df.index:\n",
    "    print(string_df.loc[row, :])"
   ]
  },
  {
   "cell_type": "markdown",
   "id": "b837ec86",
   "metadata": {},
   "source": [
    "## Value Counts\n",
    "Series.value_counts() is a SUPER important method that can be incredibly useful. Calling it on a Series returns another Series where the index is each unique value in the original Series and the actual value in the Series is the number of times it appeared in the original Series."
   ]
  },
  {
   "cell_type": "code",
   "execution_count": null,
   "id": "1ecdae16",
   "metadata": {},
   "outputs": [],
   "source": [
    "blood_list = ['AB', 'A', 'A', 'O', 'A', 'A', 'AB', 'B', 'B', 'AB']"
   ]
  },
  {
   "cell_type": "markdown",
   "id": "e8e639b2",
   "metadata": {},
   "source": [
    "Say we had a list of blood types. If we wanted to get the number of values of each type, we could loop through it using standard Python syntax:"
   ]
  },
  {
   "cell_type": "code",
   "execution_count": null,
   "id": "80dfd821",
   "metadata": {},
   "outputs": [],
   "source": [
    "for blood_type in set(blood_list):\n",
    "    print(blood_type, blood_list.count(blood_type))"
   ]
  },
  {
   "cell_type": "markdown",
   "id": "646c5d51",
   "metadata": {},
   "source": [
    "While this works fine for a small list of 10 blood types, what if we had a list that was hundreds of thousands of values long? We can convert it into a Series and use .value_counts()"
   ]
  },
  {
   "cell_type": "code",
   "execution_count": null,
   "id": "198efad3",
   "metadata": {},
   "outputs": [],
   "source": [
    "pd.Series(blood_list).value_counts()"
   ]
  },
  {
   "cell_type": "markdown",
   "id": "ce7885b4",
   "metadata": {},
   "source": [
    "## Handling NaNs\n",
    "For numpy arrays, we can use np.isnan() and for pandas we can use df.isna(), df.dropna(), and df.fillna(). Here are some examples below."
   ]
  },
  {
   "cell_type": "code",
   "execution_count": null,
   "id": "a36a34f0",
   "metadata": {},
   "outputs": [],
   "source": [
    "random_df = pd.DataFrame({'a' : [1, 4, 3], 'b' : [np.nan, 4, 1]})\n",
    "random_df"
   ]
  },
  {
   "cell_type": "code",
   "execution_count": null,
   "id": "4bed7e39",
   "metadata": {},
   "outputs": [],
   "source": [
    "random_df.isna()"
   ]
  },
  {
   "cell_type": "code",
   "execution_count": null,
   "id": "2629c4a4",
   "metadata": {},
   "outputs": [],
   "source": [
    "np.isnan(np.array(random_df))"
   ]
  },
  {
   "cell_type": "code",
   "execution_count": null,
   "id": "022fdb4b",
   "metadata": {},
   "outputs": [],
   "source": [
    "random_df.dropna(axis=0)"
   ]
  },
  {
   "cell_type": "code",
   "execution_count": null,
   "id": "0c0aa3cd",
   "metadata": {},
   "outputs": [],
   "source": [
    "random_df.dropna(axis=1)"
   ]
  },
  {
   "cell_type": "markdown",
   "id": "901d1894",
   "metadata": {},
   "source": [
    "# (4) Supplementary Exercises\n",
    "These are retired exercises from a previous semester's Python HW. Feel free to attempt them for extra practice if you want!\n",
    "\n",
    "**Supplementary Exercise 1**\n",
    "+ Define a function which takes in one input, `n`, and returns one output, `y`.\n",
    "+ The function should compute the following: Start with the number 100. If the number is divisible by 3, divide by 3. If it is not divisible by 3, add 7. Compute this `n` times. Return the output, `y`, of the nth computation. For example:\n",
    "> + n=0, return 100\n",
    "> + n=1, return 107\n",
    "> + n=2, return 114\n",
    "> + n=3, return 38 etc\n",
    "+ Create a list, `x_vals`, with the values 1-10\n",
    "+ Create a list, `y_vals`, with the output of the function for each x value.\n",
    "+ Plot `x_vals` versus `y_vals` in a line plot in the color red"
   ]
  },
  {
   "cell_type": "code",
   "execution_count": 7,
   "id": "d5e88a5d",
   "metadata": {},
   "outputs": [
    {
     "data": {
      "text/plain": [
       "[<matplotlib.lines.Line2D at 0x7fdd4f6eb490>]"
      ]
     },
     "execution_count": 7,
     "metadata": {},
     "output_type": "execute_result"
    },
    {
     "data": {
      "image/png": "[encoded data removed]",
      "text/plain": [
       "<Figure size 640x480 with 1 Axes>"
      ]
     },
     "metadata": {},
     "output_type": "display_data"
    }
   ],
   "source": [
    "# write code here\n",
    "import matplotlib.pyplot as plt\n",
    "\n",
    "def my_func(n):\n",
    "    value = 100\n",
    "    for i in range(n):\n",
    "        if value % 3 == 0:\n",
    "            value /= 3\n",
    "        else:\n",
    "            value += 7\n",
    "    return value\n",
    "\n",
    "x_vals = []\n",
    "y_vals = []\n",
    "\n",
    "for i in range(10):\n",
    "    x_vals.append(i)\n",
    "    y_vals.append(my_func(i))\n",
    "    \n",
    "plt.plot(x_vals, y_vals, color='red')"
   ]
  },
  {
   "cell_type": "markdown",
   "id": "17f63310",
   "metadata": {},
   "source": [
    "**Supplementary Exercise 2**\n",
    "</br>Here is a predefined DataFrame. Explore the structure of it to understand how to complete the next parts.\n",
    "+ For each row in the DataFrame, compute the mean of the values in the row. \n",
    "+ Count the number of values in the row that are greater than the mean and add the count to `count_list`.\n",
    "+ Find the number of different values in your list (hint: you can use the set() wrapper to convert a list to a set) and call it `num_bins`.\n",
    "+ Create a histogram of your `count_list` with the argument `bins=num_bins` and the color purple."
   ]
  },
  {
   "cell_type": "code",
   "execution_count": 8,
   "id": "333430be",
   "metadata": {},
   "outputs": [],
   "source": [
    "import random\n",
    "example_df = pd.DataFrame(\n",
    "    [[random.randint(1,100)+j*5 for i in range(10)] for j in range(1000)], \n",
    "    columns=[i for i in range(10)])"
   ]
  },
  {
   "cell_type": "code",
   "execution_count": 9,
   "id": "60a73f6a",
   "metadata": {},
   "outputs": [
    {
     "data": {
      "image/png": "[encoded data removed]",
      "text/plain": [
       "<Figure size 640x480 with 1 Axes>"
      ]
     },
     "metadata": {},
     "output_type": "display_data"
    },
    {
     "data": {
      "image/png": "[encoded data removed]",
      "text/plain": [
       "<Figure size 640x480 with 1 Axes>"
      ]
     },
     "metadata": {},
     "output_type": "display_data"
    }
   ],
   "source": [
    "# write code here\n",
    "import numpy as np\n",
    "\n",
    "# Method 1 - looping through rows and taking count manually\n",
    "count_list=[]\n",
    "for row in example_df.index:\n",
    "    row_mean = np.mean(example_df.loc[row, :])\n",
    "    num_above_mean = sum(example_df.loc[row, :] > row_mean)\n",
    "    count_list.append(num_above_mean)\n",
    "\n",
    "num_bins = len(set(count_list))\n",
    "plt.hist(count_list, bins=num_bins, color='purple')\n",
    "plt.title('Manual')\n",
    "plt.show()\n",
    "\n",
    "# Method 2 - condensed using pandas\n",
    "row_means = example_df.T.mean()\n",
    "count_list = (example_df.T > row_means).sum()\n",
    "num_bins = len(count_list.unique())\n",
    "\n",
    "plt.hist(count_list, bins=num_bins, color='purple')\n",
    "plt.title('Condensed')\n",
    "plt.show()"
   ]
  },
  {
   "cell_type": "markdown",
   "id": "2a4ff055",
   "metadata": {},
   "source": [
    "**Supplementary Exercise 3 (Extra Credit)**\n",
    "</br> The code below will import the `iris` dataset, a commonly used dataset in pattern recognition. It contains 150 measurements from three different types of irises, *Iris setosa*, *Iris versicolor*, and *Iris virginica*. These are denoted with the numbers 0, 1, and 2 respectively in the DataFrame. The measurements include sepal length, sepal width, petal length, and petal width.\n",
    "+ Create a single figure with 4 scatterplots comparing all four combinations of length and width.\n",
    "+ Color the points based on their species. \n",
    "+ Add an appropriate title, axis labels, and legend. \n",
    "+ Determine which combination of measurements is best able to differentiate the species of iris and explain why."
   ]
  },
  {
   "cell_type": "code",
   "execution_count": 10,
   "id": "36cb6cd5",
   "metadata": {},
   "outputs": [],
   "source": [
    "from sklearn import datasets\n",
    "\n",
    "iris = datasets.load_iris()\n",
    "iris_df = pd.DataFrame(iris.data[:, :4], columns=iris.feature_names)\n",
    "iris_df = pd.concat([iris_df, pd.Series(iris.target, name='species')], axis=1)"
   ]
  },
  {
   "cell_type": "code",
   "execution_count": 11,
   "id": "5a1e2b7b",
   "metadata": {},
   "outputs": [
    {
     "data": {
      "text/plain": [
       "<matplotlib.legend.Legend at 0x7fdd4b885dc0>"
      ]
     },
     "execution_count": 11,
     "metadata": {},
     "output_type": "execute_result"
    },
    {
     "data": {
      "image/png": "[encoded data removed]",
      "text/plain": [
       "<Figure size 640x480 with 4 Axes>"
      ]
     },
     "metadata": {},
     "output_type": "display_data"
    }
   ],
   "source": [
    "# write code here\n",
    "# write code here\n",
    "import matplotlib.patches as mpatches\n",
    "\n",
    "fig, axs = plt.subplots(2, 2)\n",
    "\n",
    "axs[0][0].scatter(iris_df.iloc[:, 0], iris_df.iloc[:, 1], c=iris_df.species, s=4)\n",
    "axs[0][0].set_ylabel('sepal width (cm)')\n",
    "\n",
    "axs[0][1].scatter(iris_df.iloc[:, 2], iris_df.iloc[:, 1], c=iris_df.species, s=4)\n",
    "\n",
    "axs[1][0].scatter(iris_df.iloc[:, 0], iris_df.iloc[:, 3], c=iris_df.species, s=4)\n",
    "axs[1][0].set_xlabel('sepal length (cm)')\n",
    "axs[1][0].set_ylabel('petal width (cm)')\n",
    "\n",
    "axs[1][1].scatter(iris_df.iloc[:, 2], iris_df.iloc[:, 3], c=iris_df.species, s=4)\n",
    "axs[1][1].set_xlabel('petal length (cm)')\n",
    "\n",
    "fig.suptitle('Comparing Length and Width Between Sepals and Petals')\n",
    "\n",
    "setosa = mpatches.Patch(color='#440154', label='Iris setosa')\n",
    "versicolor = mpatches.Patch(color='#21918c', label='Iris versicolor')\n",
    "virginica = mpatches.Patch(color='#fde725', label='Iris virginica')\n",
    "\n",
    "fig.legend(handles=[setosa, versicolor, virginica], bbox_to_anchor=[0.85,0], fancybox=True, ncols=3)"
   ]
  },
  {
   "cell_type": "code",
   "execution_count": null,
   "id": "632f43a2",
   "metadata": {},
   "outputs": [],
   "source": [
    "# petal length vs petal width gives the clearest demarcation"
   ]
  }
 ],
 "metadata": {
  "kernelspec": {
   "display_name": "Python 3 (ipykernel)",
   "language": "python",
   "name": "python3"
  },
  "language_info": {
   "codemirror_mode": {
    "name": "ipython",
    "version": 3
   },
   "file_extension": ".py",
   "mimetype": "text/x-python",
   "name": "python",
   "nbconvert_exporter": "python",
   "pygments_lexer": "ipython3",
   "version": "3.9.18"
  }
 },
 "nbformat": 4,
 "nbformat_minor": 5
}
